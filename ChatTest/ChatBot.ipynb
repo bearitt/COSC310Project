{
 "cells": [
  {
   "cell_type": "code",
   "execution_count": 5,
   "metadata": {},
   "outputs": [
    {
     "name": "stdout",
     "output_type": "stream",
     "text": [
      "Successfully imported chatbot\n"
     ]
    }
   ],
   "source": [
    "from chatterbot import ChatBot\n",
    "from chatterbot.trainers import ListTrainer\n",
    "print(\"Successfully imported chatbot\")"
   ]
  },
  {
   "cell_type": "code",
   "execution_count": 8,
   "metadata": {},
   "outputs": [
    {
     "name": "stdout",
     "output_type": "stream",
     "text": [
      "[nltk_data] Downloading package averaged_perceptron_tagger to\n",
      "[nltk_data]     C:\\Users\\barre_000\\AppData\\Roaming\\nltk_data...\n",
      "[nltk_data]   Package averaged_perceptron_tagger is already up-to-\n",
      "[nltk_data]       date!\n",
      "[nltk_data] Downloading package stopwords to\n",
      "[nltk_data]     C:\\Users\\barre_000\\AppData\\Roaming\\nltk_data...\n",
      "[nltk_data]   Package stopwords is already up-to-date!\n",
      "List Trainer: [                    ] 1%"
     ]
    },
    {
     "name": "stderr",
     "output_type": "stream",
     "text": [
      "C:\\Users\\barre_000\\Anaconda3\\lib\\site-packages\\chatterbot\\corpus.py:38: YAMLLoadWarning: calling yaml.load() without Loader=... is deprecated, as the default Loader is unsafe. Please read https://msg.pyyaml.org/load for full details.\n",
      "  return yaml.load(data_file)\n"
     ]
    },
    {
     "name": "stdout",
     "output_type": "stream",
     "text": [
      "List Trainer: [####################] 100%\n",
      "You: Hello\n",
      "Chatbot:  - No it is not. The cake is delicious.\n",
      "You: Are you sure?\n",
      "Chatbot:  - Or something\n",
      "You: This is weird\n",
      "Chatbot:  - Namespaces are one honking great idea. Let's do more of those!\n",
      "You: Who are you?\n",
      "Chatbot:  - - I am working on a project\n",
      "You: What are you working on?\n",
      "Chatbot:  - I am baking a cake.\n",
      "You: Sounds delicious\n",
      "Chatbot:  - What else is delicious?\n",
      "You: Bananas?\n",
      "Chatbot:  - Hi\n",
      "You: Hi!\n",
      "Chatbot:  - Yes, I have a question.\n",
      "You: What is your question?\n",
      "Chatbot:  - Could I borrow a cup of sugar?\n",
      "You: No way\n",
      "Chatbot:  - I use Python, Java and C++ quite often.\n",
      "You: Python sucks\n",
      "Chatbot:  - What do you want to know?\n",
      "You: who are you\n",
      "Chatbot:  - - I am working on a project\n",
      "You: i don't care\n",
      "Chatbot:  - Yes I am.\n",
      "You: bye\n",
      "Chatbot:  - Hi\n",
      "You: Bye\n",
      "Chatbot:  - Hi\n",
      "ChatBot: Bye!\n"
     ]
    }
   ],
   "source": [
    "bot=ChatBot('MyChatBot')\n",
    "conversation=open('chat.txt','r').readlines()\n",
    "trainer=ListTrainer(bot)\n",
    "trainer.train(conversation)\n",
    "\n",
    "while True:\n",
    "    message=input('You: ')\n",
    "    if message.strip()!='Bye':\n",
    "        reply=bot.get_response(message)\n",
    "    print('Chatbot: ',reply)\n",
    "    if message.strip()=='Bye':\n",
    "        print('ChatBot: Bye!')\n",
    "        break"
   ]
  },
  {
   "cell_type": "code",
   "execution_count": 7,
   "metadata": {},
   "outputs": [
    {
     "name": "stdout",
     "output_type": "stream",
     "text": [
      "Help on class ChatBot in module chatterbot.chatterbot:\n",
      "\n",
      "class ChatBot(builtins.object)\n",
      " |  ChatBot(name, **kwargs)\n",
      " |  \n",
      " |  A conversational dialog chat bot.\n",
      " |  \n",
      " |  Methods defined here:\n",
      " |  \n",
      " |  __init__(self, name, **kwargs)\n",
      " |      Initialize self.  See help(type(self)) for accurate signature.\n",
      " |  \n",
      " |  generate_response(self, input_statement, additional_response_selection_parameters=None)\n",
      " |      Return a response based on a given input statement.\n",
      " |      \n",
      " |      :param input_statement: The input statement to be processed.\n",
      " |  \n",
      " |  get_initialization_functions(self)\n",
      " |  \n",
      " |  get_latest_response(self, conversation)\n",
      " |      Returns the latest response in a conversation if it exists.\n",
      " |      Returns None if a matching conversation cannot be found.\n",
      " |  \n",
      " |  get_response(self, statement=None, **kwargs)\n",
      " |      Return the bot's response based on the input.\n",
      " |      \n",
      " |      :param statement: An statement object or string.\n",
      " |      :returns: A response to the input.\n",
      " |      :rtype: Statement\n",
      " |      \n",
      " |      :param additional_response_selection_parameters: Parameters to pass to the\n",
      " |          chat bot's logic adapters to control response selection.\n",
      " |      :type additional_response_selection_parameters: dict\n",
      " |      \n",
      " |      :param persist_values_to_response: Values that should be saved to the response\n",
      " |          that the chat bot generates.\n",
      " |      :type persist_values_to_response: dict\n",
      " |  \n",
      " |  initialize(self)\n",
      " |      Do any work that needs to be done before the chatbot can process responses.\n",
      " |  \n",
      " |  learn_response(self, statement, previous_statement=None)\n",
      " |      Learn that the statement provided is a valid response.\n",
      " |  \n",
      " |  ----------------------------------------------------------------------\n",
      " |  Data descriptors defined here:\n",
      " |  \n",
      " |  __dict__\n",
      " |      dictionary for instance variables (if defined)\n",
      " |  \n",
      " |  __weakref__\n",
      " |      list of weak references to the object (if defined)\n",
      " |  \n",
      " |  ----------------------------------------------------------------------\n",
      " |  Data and other attributes defined here:\n",
      " |  \n",
      " |  ChatBotException = <class 'chatterbot.chatterbot.ChatBot.ChatBotExcept...\n",
      " |      Common base class for all non-exit exceptions.\n",
      "\n"
     ]
    }
   ],
   "source": [
    "help(ChatBot)"
   ]
  },
  {
   "cell_type": "code",
   "execution_count": null,
   "metadata": {},
   "outputs": [],
   "source": []
  }
 ],
 "metadata": {
  "kernelspec": {
   "display_name": "Python 3",
   "language": "python",
   "name": "python3"
  },
  "language_info": {
   "codemirror_mode": {
    "name": "ipython",
    "version": 3
   },
   "file_extension": ".py",
   "mimetype": "text/x-python",
   "name": "python",
   "nbconvert_exporter": "python",
   "pygments_lexer": "ipython3",
   "version": "3.7.0"
  }
 },
 "nbformat": 4,
 "nbformat_minor": 2
}
